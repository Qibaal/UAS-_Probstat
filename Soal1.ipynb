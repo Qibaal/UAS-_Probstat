{
 "cells": [
  {
   "cell_type": "code",
   "execution_count": 991,
   "metadata": {},
   "outputs": [],
   "source": [
    "import pandas as pd\n",
    "import numpy as np\n",
    "import scipy.stats as st\n"
   ]
  },
  {
   "cell_type": "code",
   "execution_count": 992,
   "metadata": {},
   "outputs": [],
   "source": [
    "df = pd.read_excel('Dataset.xlsx', sheet_name='heart disease')"
   ]
  },
  {
   "cell_type": "markdown",
   "metadata": {},
   "source": [
    "Tentukan confidence interval 96% untuk Mean(BloodPressure) pada Outcome = 1\n",
    "std dev = 10"
   ]
  },
  {
   "cell_type": "code",
   "execution_count": 993,
   "metadata": {},
   "outputs": [],
   "source": [
    "df2 = df[df['HeartDisease'] == 1]\n",
    "df3 = df[df['HeartDisease'] == 0]\n"
   ]
  },
  {
   "cell_type": "markdown",
   "metadata": {},
   "source": [
    "alpha = confidence level\n",
    "loc = rata-rata dari yang kita mau\n",
    "scale = standar deviasi"
   ]
  },
  {
   "cell_type": "code",
   "execution_count": 994,
   "metadata": {},
   "outputs": [
    {
     "name": "stdout",
     "output_type": "stream",
     "text": [
      "1.1489013236464949\n",
      "Confidence Interval: (225.9730498958657, 228.2708525431587)\n"
     ]
    }
   ],
   "source": [
    "# (a) estimasi Mean untuk Standar deviasi diketahui\n",
    "xbar = np.mean(df3['Cholesterol'])\n",
    "std = 10\n",
    "c_level = 0.98\n",
    "error = st.norm.ppf((1 + c_level) / 2) * (std / np.sqrt(len(df3['Cholesterol'])))\n",
    "print(error)\n",
    "\n",
    "confidence_interval = (xbar - error, xbar + error)\n",
    "print(f\"Confidence Interval: {confidence_interval}\")\n"
   ]
  },
  {
   "cell_type": "code",
   "execution_count": 995,
   "metadata": {},
   "outputs": [
    {
     "name": "stdout",
     "output_type": "stream",
     "text": [
      "Confidence Interval: (218.51343227115822, 235.73047016786617)\n"
     ]
    }
   ],
   "source": [
    "# (b) estimasi Mean untuk standar deviasi tidak diketahui\n",
    "xbar = np.mean(df3['Cholesterol'])\n",
    "std = np.std(df3['Cholesterol'])\n",
    "c_level = 0.98\n",
    "freedom = len(df3) - 1\n",
    "error = st.t.ppf((1 + c_level) / 2, freedom) * (std / np.sqrt(len(df3)-1))\n",
    "\n",
    "confidence_interval = (xbar- error, xbar + error)\n",
    "print(f\"Confidence Interval: {confidence_interval}\")"
   ]
  },
  {
   "cell_type": "code",
   "execution_count": 996,
   "metadata": {},
   "outputs": [
    {
     "name": "stdout",
     "output_type": "stream",
     "text": [
      "5570.332279802015\n",
      "Confidence Interval for Variance: (4761.656253150379, 6595.657704829602)\n"
     ]
    }
   ],
   "source": [
    "# (c) estimasi Mean dengan variansi\n",
    "xbar = np.mean(df3['Cholesterol'])\n",
    "variance = np.var(df3['Cholesterol'], ddof=1)\n",
    "print(variance)\n",
    "freedom = len(df3) - 1\n",
    "c_level = 0.98\n",
    "\n",
    "chi2_lower = st.chi2.ppf((1 - c_level) / 2, freedom)\n",
    "chi2_upper = st.chi2.ppf((1 + c_level) / 2, freedom)\n",
    "\n",
    "confidence_interval = (\n",
    "    (freedom * variance) / chi2_upper,\n",
    "    (freedom * variance) / chi2_lower\n",
    ")\n",
    "\n",
    "print(f\"Confidence Interval for Variance: {confidence_interval}\")"
   ]
  },
  {
   "cell_type": "code",
   "execution_count": 997,
   "metadata": {},
   "outputs": [
    {
     "name": "stdout",
     "output_type": "stream",
     "text": [
      "-51.18100633762242\n",
      "Confidence Interval: (-52.727174624520536, -49.634838050724305)\n"
     ]
    }
   ],
   "source": [
    "# (m) & (n)\n",
    "# Estimasi Mean untuk selisih 2 Mean\n",
    "c_level = 0.98\n",
    "std1 = 10\n",
    "std2 = 10\n",
    "M1 = np.mean(df2['Cholesterol'])\n",
    "M2 = np.mean(df3['Cholesterol'])\n",
    "\n",
    "xbar = M1 - M2\n",
    "print(xbar)\n",
    "error = st.norm.ppf((1 + c_level) / 2) * np.sqrt((std1**2/(len(df2)-1)) + (std2**2/(len(df3)-1)))\n",
    "\n",
    "confidence_interval = (xbar - error, xbar + error)\n",
    "print(f\"Confidence Interval: {confidence_interval}\")\n"
   ]
  },
  {
   "cell_type": "code",
   "execution_count": 998,
   "metadata": {},
   "outputs": [
    {
     "name": "stdout",
     "output_type": "stream",
     "text": [
      "Confidence Interval: (-66.82196598144557, -35.54004669379927)\n"
     ]
    }
   ],
   "source": [
    "# (o) & (p)\n",
    "# Estimasi Mean untuk selisih 2 Mean apabila standar deviasi tidak diketahui\n",
    "M1 = np.mean(df2['Cholesterol'])\n",
    "M2 = np.mean(df3['Cholesterol'])\n",
    "xbar = M1 - M2\n",
    "\n",
    "n1 = len(df2) # penderita diabetes\n",
    "n2 = len(df3) # non penderita\n",
    "s1 = np.std(df2['Cholesterol'], ddof=1)\n",
    "s2 = np.std(df3['Cholesterol'], ddof=1)\n",
    "\n",
    "c_level = 0.98\n",
    "\n",
    "freedom = (s1**2 / n1 + s2**2 / n2)**2 / (s1**4 / (n1**2 * (n1 - 1)) + s2**4 / (n2**2 * (n2 - 1)))\n",
    "error = st.t.ppf((1 + c_level) / 2, freedom) * np.sqrt((s1**2/n1) + (s2**2/n2))\n",
    "\n",
    "confidence_interval = (xbar - error, xbar + error)\n",
    "print(f\"Confidence Interval: {confidence_interval}\")"
   ]
  },
  {
   "cell_type": "code",
   "execution_count": 999,
   "metadata": {},
   "outputs": [
    {
     "name": "stdout",
     "output_type": "stream",
     "text": [
      "Confidence Interval for Variance Ratio: (2.362568085778413, 3.4776061088365133)\n"
     ]
    }
   ],
   "source": [
    "# (q) & (r)\n",
    "# estimasi mean dengan rasio variansi\n",
    "n1 = len(df2)\n",
    "n2 = len(df3)\n",
    "s1 = np.var(df2['Cholesterol'])\n",
    "s2 = np.var(df3['Cholesterol'])\n",
    "\n",
    "c_level = 0.96\n",
    "alpha = 1 - c_level\n",
    "\n",
    "f_critical_lower = st.f.ppf(alpha / 2, n1 - 1, n2 - 1)\n",
    "f_critical_upper = st.f.ppf(1 - alpha / 2, n1 - 1, n2 - 1)\n",
    "\n",
    "ci_lower = (s1 / s2) * (1 / f_critical_upper)\n",
    "ci_upper = (s1 / s2) * (1 / f_critical_lower)\n",
    "\n",
    "print(f'Confidence Interval for Variance Ratio: ({ci_lower}, {ci_upper})')\n"
   ]
  }
 ],
 "metadata": {
  "kernelspec": {
   "display_name": "Python 3",
   "language": "python",
   "name": "python3"
  },
  "language_info": {
   "codemirror_mode": {
    "name": "ipython",
    "version": 3
   },
   "file_extension": ".py",
   "mimetype": "text/x-python",
   "name": "python",
   "nbconvert_exporter": "python",
   "pygments_lexer": "ipython3",
   "version": "3.9.12"
  }
 },
 "nbformat": 4,
 "nbformat_minor": 2
}
