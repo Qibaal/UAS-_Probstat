{
 "cells": [
  {
   "cell_type": "code",
   "execution_count": 83,
   "metadata": {},
   "outputs": [],
   "source": [
    "import pandas as pd\n",
    "import numpy as np\n",
    "import scipy.stats as st"
   ]
  },
  {
   "cell_type": "code",
   "execution_count": 84,
   "metadata": {},
   "outputs": [
    {
     "data": {
      "text/plain": [
       "array([ 122,  158,  210,  302,  378,  488,  538,  691,  746,  821, 1031,\n",
       "       1080, 1145, 1154, 1188])"
      ]
     },
     "metadata": {},
     "output_type": "display_data"
    }
   ],
   "source": [
    "# df = pd.read_excel('Dataset UAS.xlsx', sheet_name='mobile banking pilihan')\n",
    "df = np.array([122, 158, 210, 302, 378, 488, 538, 691, 746, 821, 1031, 1080, 1145, 1154, 1188])\n",
    "# confidence level\n",
    "c_level = float(input(\"Masukkan confidence level: \"))"
   ]
  },
  {
   "cell_type": "code",
   "execution_count": 87,
   "metadata": {},
   "outputs": [
    {
     "name": "stdout",
     "output_type": "stream",
     "text": [
      "1360\n",
      "Confidence Interval: (0.06974641466130177, 0.10966535004458058)\n"
     ]
    }
   ],
   "source": [
    "# confidence interval untuk estimasi proporsi\n",
    "z_score = st.norm.ppf((1+c_level)/2)\n",
    "# bank = \"BCA Mobile\"\n",
    "\n",
    "# p = df.loc[df['Jenis mobile banking apps'] == bank, 'Jumlah responden yang menggunakan'].values[0] / n\n",
    "n = 1360\n",
    "p = 122 / n\n",
    "\n",
    "error = z_score * np.sqrt(p*(1-p) / n)\n",
    "print(n)\n",
    "confidence_interval = (p - error, p + error)\n",
    "print(f\"Confidence Interval: {confidence_interval}\")"
   ]
  },
  {
   "cell_type": "code",
   "execution_count": 82,
   "metadata": {},
   "outputs": [
    {
     "name": "stdout",
     "output_type": "stream",
     "text": [
      "Z-Score : 1.6448536269514722\n",
      "z uji ditolak\n"
     ]
    },
    {
     "name": "stderr",
     "output_type": "stream",
     "text": [
      "C:\\Users\\LENOVO\\AppData\\Local\\Temp\\ipykernel_33316\\4163442842.py:11: RuntimeWarning: invalid value encountered in sqrt\n",
      "  z = (p - H0) / np.sqrt(p*(1-p) / n)\n"
     ]
    }
   ],
   "source": [
    "bank = \"Livin' (Bank Mandiri)\"\n",
    "H0 = 0.25\n",
    "alpha = 0.1\n",
    "\n",
    "# Z-Score\n",
    "Z_score = st.norm.ppf((2-alpha) / 2)\n",
    "print(f'Z-Score : {Z_score}')\n",
    "\n",
    "# Critical region\n",
    "p = df.loc[df['Jenis mobile banking apps'] == bank, 'Jumlah responden yang menggunakan'].values[0] / n\n",
    "z = (p - H0) / np.sqrt(p*(1-p) / n)\n",
    "if (z > Z_score):\n",
    "    print(f'z uji: {z} (diterima)')\n",
    "else:\n",
    "    print('z uji ditolak')\n",
    "\n",
    "# p-value\n"
   ]
  },
  {
   "cell_type": "code",
   "execution_count": null,
   "metadata": {},
   "outputs": [],
   "source": []
  }
 ],
 "metadata": {
  "kernelspec": {
   "display_name": "Python 3",
   "language": "python",
   "name": "python3"
  },
  "language_info": {
   "codemirror_mode": {
    "name": "ipython",
    "version": 3
   },
   "file_extension": ".py",
   "mimetype": "text/x-python",
   "name": "python",
   "nbconvert_exporter": "python",
   "pygments_lexer": "ipython3",
   "version": "3.9.12"
  }
 },
 "nbformat": 4,
 "nbformat_minor": 2
}
